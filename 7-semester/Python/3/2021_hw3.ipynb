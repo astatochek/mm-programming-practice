{
 "cells": [
  {
   "cell_type": "markdown",
   "metadata": {},
   "source": [
    "## Задача 1: функция __zip()__ через __map()__"
   ]
  },
  {
   "cell_type": "code",
   "execution_count": 14,
   "metadata": {},
   "outputs": [
    {
     "data": {
      "text/plain": [
       "[(1, 4, 7), (2, 5, 8), (3, 6, 9)]"
      ]
     },
     "execution_count": 14,
     "metadata": {},
     "output_type": "execute_result"
    }
   ],
   "source": [
    "def _zip(*args):\n",
    "    return list(map(lambda j: tuple(arg[j] for arg in args), [i for i in range(min(map(lambda a: len(a), args)))]))\n",
    "_zip([1,2,3], [4,5,6], [7,8,9,10])"
   ]
  },
  {
   "cell_type": "markdown",
   "metadata": {},
   "source": [
    "## Задача 2: поиск минимального положительного элемента в списке\n",
    "\n",
    "Написать функцию, возвращающую минимальный положительный элемент в списке."
   ]
  },
  {
   "cell_type": "code",
   "execution_count": 21,
   "metadata": {},
   "outputs": [
    {
     "data": {
      "text/plain": [
       "1"
      ]
     },
     "execution_count": 21,
     "metadata": {},
     "output_type": "execute_result"
    }
   ],
   "source": [
    "def min_positive(arr):\n",
    "    return min(tmp) if len(tmp := [a for a in arr if a > 0]) > 0 else -1\n",
    "min_positive([1,2,3,4,-1,-2,-3,-4])"
   ]
  },
  {
   "cell_type": "markdown",
   "metadata": {},
   "source": [
    "## Задача 3: поиск НОД всех чисел в iterable\n",
    "\n",
    "На вход подаются натуральные числа (через пробел), необходимо вывести НОД всех введенных чисел."
   ]
  },
  {
   "cell_type": "code",
   "execution_count": 23,
   "metadata": {},
   "outputs": [
    {
     "data": {
      "text/plain": [
       "2"
      ]
     },
     "execution_count": 23,
     "metadata": {},
     "output_type": "execute_result"
    }
   ],
   "source": [
    "from math import gcd\n",
    "\n",
    "def _gcd(args):\n",
    "    return gcd(*args)\n",
    "\n",
    "_gcd([10,12,14])"
   ]
  },
  {
   "cell_type": "markdown",
   "metadata": {},
   "source": [
    "## Как сортировать?\n",
    "\n",
    "Есть 2 способа:\n",
    "1. Метод sort, применяемый к списку (изменяется содержимое). Только ко списку.\n",
    "```python\n",
    "myList.sort()\n",
    "# в обратном порядке\n",
    "myList.sort(reverse=True)\n",
    "```\n",
    "2. Метод sorted (возвращает отсортированный список, но не изменяет значение своего параметра). В качестве аргумента - не только список, а кортежи, строки, iterable\n",
    "```python\n",
    "sortedList = sorted(myList)\n",
    "# в обратном порядке\n",
    "sortedList = sorted(myList, reverse=True)\n",
    "```\n",
    "\n",
    "Сортировку можно применять к спискам, все элементы которых сравнимы между собой.\n",
    "\n",
    "### Именованный параметр key\n",
    "\n",
    "Значением этого параметра должна быть функция, которая применяется к каждому элементу списка и затем сравнение элементов происходит по значению этой функции (оно называется ключом).\n",
    "```python\n",
    "# сортировка и вывод списка строк по длине\n",
    "'\\n'.join(sorted(strings, key=len))\n",
    "```"
   ]
  },
  {
   "cell_type": "markdown",
   "metadata": {},
   "source": [
    "## Задача 4: о сортировке точек на плоскости, заданных парой целых координат $x$ и $y$ по неубыванию расстояния от начала координат.\n",
    "\n",
    "1. Вводится число $n$;\n",
    "2. Далее вводятся $n$ точек на плоскости (числ через пробел);\n",
    "3. Вывести строки в порядке неубывания расстояния до центра координат."
   ]
  },
  {
   "cell_type": "code",
   "execution_count": 29,
   "metadata": {},
   "outputs": [
    {
     "name": "stdout",
     "output_type": "stream",
     "text": [
      "[[x:1, y:1], [x:1, y:2], [x:2, y:2]]\n"
     ]
    }
   ],
   "source": [
    "class Point:\n",
    "    def __init__(self, x, y):\n",
    "        self.x = x\n",
    "        self.y = y\n",
    "\n",
    "    def norm(point):\n",
    "        return point.x**2 + point.y**2\n",
    "    \n",
    "    def __repr__(self):\n",
    "        return f\"[x:{self.x}, y:{self.y}]\"\n",
    "\n",
    "print(sorted([Point(*map(int, input().split())) for _ in range(int(input()))], key=Point.norm))\n"
   ]
  },
  {
   "cell_type": "markdown",
   "metadata": {},
   "source": [
    "## Задача 5: Стоимость поездок \n",
    "\n",
    "В городе есть несколько человек, каждый из которых хочет проехать некоторое число километров. Также в городе есть несколько машин такси ($=$ количество человек), каждый из которых берет определенную сумму за перевозку ($\\frac{\\text{руб.}}{\\text{км}}$).\n",
    "Необходимо сопоставить каждому человеку номер такси, чтобы суммарная цена поездок была минимальна.\n",
    "\n",
    "1. В  первой строке через пробелы вводятся положительные числа $-$ км, которые хотят проехать будущие пассажиры;\n",
    "2. Во второй строке через пробелы вводятся положительные числа $-$ стоимости (за 1 км) проезда таксистов соответственно;\n",
    "3. Вывести минимальную суммарную цену поездок и соответствующие каждому пассажиру номера такси (списком).\n",
    "\n",
    "**Пример входных данных:**\n",
    "\n",
    "4 5 6 1 2 3 <br>\n",
    "100 150 200 400 70 95\n",
    "\n",
    "**Пример выходных данных:**\n",
    "\n",
    "2545 <br>\n",
    "0 5 4 3 2 1"
   ]
  },
  {
   "cell_type": "code",
   "execution_count": 6,
   "metadata": {},
   "outputs": [
    {
     "name": "stdout",
     "output_type": "stream",
     "text": [
      "2545\n",
      "[0, 5, 4, 3, 2, 1]\n"
     ]
    }
   ],
   "source": [
    "from functools import reduce\n",
    "\n",
    "kms = list(map(int, input().split())) # [4, 5, 6, 1, 2, 3]\n",
    "costs = list(map(int, input().split())) # [100, 150, 200, 400, 70, 95]\n",
    "\n",
    "if len(kms) != len(costs):\n",
    "    raise IndexError(f\"{kms} and {costs} have different lengths\")\n",
    "\n",
    "sorted_kms = sorted(enumerate(kms), key=lambda x: x[1])\n",
    "sorted_costs = sorted(enumerate(costs), key=lambda x: -x[1])\n",
    "\n",
    "scalar = [k[1] * c[1] for k, c in zip(sorted_kms, sorted_costs)]\n",
    "print(reduce(lambda x, y: x + y, scalar))\n",
    "print([sorted_kms[list(map(lambda x: x[0], sorted_kms)).index(c[0])][1] - 1 for c in sorted_costs])"
   ]
  }
 ],
 "metadata": {
  "kernelspec": {
   "display_name": "Python 3",
   "language": "python",
   "name": "python3"
  },
  "language_info": {
   "codemirror_mode": {
    "name": "ipython",
    "version": 3
   },
   "file_extension": ".py",
   "mimetype": "text/x-python",
   "name": "python",
   "nbconvert_exporter": "python",
   "pygments_lexer": "ipython3",
   "version": "3.12.0"
  }
 },
 "nbformat": 4,
 "nbformat_minor": 2
}

{
 "cells": [
  {
   "cell_type": "markdown",
   "metadata": {},
   "source": [
    "## Задача 1: Frequency\n",
    "\n",
    "Напишите функцию, подсчитывающую частоту вхождения слов в текстовый файл (передаётся в функцию в качестве аргумента)."
   ]
  },
  {
   "cell_type": "code",
   "execution_count": 1,
   "metadata": {},
   "outputs": [
    {
     "name": "stdout",
     "output_type": "stream",
     "text": [
      "{'she': 1, 'walks': 1, 'in': 4, 'beauty': 1, 'like': 1, 'the': 6, 'night': 1, 'of': 3, 'cloudless': 1, 'climes': 1, 'and': 6, 'starry': 1, 'skies': 1, 'all': 2, 'thats': 1, 'best': 1, 'dark': 1, 'bright': 1, 'meet': 1, 'her': 3, 'aspect': 1, 'eyes': 1, 'thus': 1, 'mellowed': 1, 'to': 2, 'that': 5, 'tender': 1, 'light': 1, 'which': 2, 'heaven': 1, 'gaudy': 1, 'day': 1, 'denies': 1, 'one': 2, 'shade': 1, 'more': 1, 'ray': 1, 'less': 1, 'had': 1, 'half': 1, 'impaired': 1, 'nameless': 1, 'grace': 1, 'waves': 1, 'every': 1, 'raven': 1, 'tress': 1, 'or': 1, 'softly': 1, 'lightens': 1, 'oer': 2, 'face': 1, 'where': 1, 'thoughts': 1, 'serenely': 1, 'sweet': 1, 'express': 1, 'how': 2, 'pure': 1, 'dear': 1, 'their': 1, 'dwellingplace': 1, 'on': 1, 'cheek': 1, 'brow': 1, 'so': 2, 'soft': 1, 'calm': 1, 'yet': 1, 'eloquent': 1, 'smiles': 1, 'win': 1, 'tints': 1, 'glow': 1, 'but': 1, 'tell': 1, 'days': 1, 'goodness': 1, 'spent': 1, 'a': 2, 'mind': 1, 'at': 1, 'peace': 1, 'with': 1, 'below': 1, 'heart': 1, 'whose': 1, 'love': 1, 'is': 1, 'innocent': 1}\n"
     ]
    }
   ],
   "source": [
    "import re\n",
    "def frequency(filename):\n",
    "    freq = {}\n",
    "    with open(filename, \"r\") as file:\n",
    "        for line in file.readlines():\n",
    "            for word in (re.compile('[^a-zA-Z ]').sub('', line)).split():\n",
    "                w = word.lower()\n",
    "                freq[w] = freq.get(w, 0) + 1\n",
    "        return freq\n",
    "\n",
    "print(frequency(\"poem.txt\"))"
   ]
  },
  {
   "cell_type": "markdown",
   "metadata": {},
   "source": [
    "## Задача 2: Sub six\n",
    "\n",
    "Напишите функцию display_words(), принимающую в качестве аргумента имя файла _filename_\n",
    "и записывающую в новый файл _filename6_ слова, длина которых не более 6 символов."
   ]
  },
  {
   "cell_type": "code",
   "execution_count": 2,
   "metadata": {},
   "outputs": [],
   "source": [
    "import re\n",
    "def display_words(filename):\n",
    "    with open(filename, \"r\") as input_file, open(filename.replace(\".txt\", \"6.txt\"), 'w') as output_file:\n",
    "        for line in input_file.readlines():\n",
    "            for word in (re.compile('[^a-zA-Z ]').sub('', line)).split():\n",
    "                if len(word) <= 6:\n",
    "                    output_file.write(f\"{word}\\n\")\n",
    "\n",
    "display_words(\"poem.txt\")"
   ]
  },
  {
   "cell_type": "markdown",
   "metadata": {},
   "source": [
    "## Задача 3: Black Cat\n",
    "\n",
    "Сгенерировать файл со словами из файла black_cat.txt, начинающимися с символов в верхнем регистре."
   ]
  },
  {
   "cell_type": "code",
   "execution_count": 3,
   "metadata": {},
   "outputs": [],
   "source": [
    "import re\n",
    "import numpy as np\n",
    "def title_words(filename):\n",
    "    titlecase_words = []\n",
    "    with open(filename, \"r\") as input_file, open(filename.replace(\".txt\", \"_title.txt\"), 'w') as output_file:\n",
    "        for line in input_file.readlines():\n",
    "            for word in (re.compile('[^a-zA-Z ]').sub('', line)).split():\n",
    "                if word == word.title():\n",
    "                    titlecase_words.append(word)\n",
    "        titlecase_words = np.unique(titlecase_words)\n",
    "        for word in titlecase_words:\n",
    "            output_file.write(f\"{word}\\n\")\n",
    "\n",
    "title_words(\"black_cat.txt\")"
   ]
  },
  {
   "cell_type": "markdown",
   "metadata": {},
   "source": [
    "## Задача 4: JackHouse\n",
    "\n",
    "Имеется файл JackHouse2021.txt, в котором хранится лениво записанное стихотворение Джека.\n",
    "\n",
    "Сгенерируйте на его основе полноценное стихотворение \"Дом, который построил Джек\"."
   ]
  },
  {
   "cell_type": "code",
   "execution_count": 3,
   "metadata": {},
   "outputs": [],
   "source": [
    "suffix = \"\"\n",
    "prev_line = None\n",
    "with open(\"JackHouse2021.txt\", \"r\", encoding=\"utf-8\") as file, open(\"JackHouse2023.txt\", \"w\", encoding=\"utf-8\") as out:\n",
    "    for line in file.readlines():\n",
    "        if line == \"\\n\":\n",
    "            if not suffix:\n",
    "                suffix += \"В доме, который построил Джек\\n\\n\" \n",
    "            else:\n",
    "                out.write(suffix)\n",
    "                suffix = f\"{prev_line}{suffix}\"\n",
    "        else:\n",
    "            out.write(line)\n",
    "        prev_line = line"
   ]
  },
  {
   "cell_type": "markdown",
   "metadata": {},
   "source": [
    "## Задача 5: Console Quiz\n",
    "\n",
    "Напишите \"консольную\" викторону:\n",
    "\n",
    "    1. Считайте из файла questions.txt список вопросов, вариантов ответов и номеров правильных ответов.\n",
    "    2. При запуске должен появляться вопрос, 4 варианта ответа и поле, куда необходимо ввести ответ пользователя.\n",
    "        2.1 Если пользователь вводит 1, 2, 3 или 4, то должна запускаться проверка правильности ответа;\n",
    "        2.2 Если пользователь вводит 0, то игра должна прекратиться;\n",
    "        2.3 Если другое значение, то должно появиться сообщение об ошибке и просьба снова ввести ответ.\n",
    "    3. В случае, если был дан правильный ответ, пользователю выдаётся следующий вопрос. Если был введён неправильный ответ, то игра начинается заново.\n",
    "    4. Если игрок правильно ответил на все вопросы, то игра заканчивается."
   ]
  },
  {
   "cell_type": "code",
   "execution_count": 35,
   "metadata": {},
   "outputs": [
    {
     "name": "stdout",
     "output_type": "stream",
     "text": [
      "1. Как, образно говоря, способный человек впитывает знания?\n",
      "\n",
      "как тряпка\n",
      "как губка\n",
      "как газета\n",
      "как промокашка\n",
      "\n",
      "2. Что есть у ботинка?\n",
      "\n",
      "подбородочек\n",
      "язычок\n",
      "глазок\n",
      "зубки\n",
      "\n",
      "3. Как заканчивается название альбома Давида Тухманова \"По волне моей...\"?\n",
      "\n",
      "мысли\n",
      "души\n",
      "жизни\n",
      "памяти\n",
      "\n",
      "4. На что опирается в своей деятельности политическая партия?\n",
      "\n",
      "на перрон\n",
      "на шасси\n",
      "на платформу\n",
      "на подиум\n",
      "\n",
      "5. Как на Руси называлась небольшая комната, обычно в верхней части дома?\n",
      "\n",
      "светелка\n",
      "горелка\n",
      "огневка\n",
      "теплушка\n",
      "\n",
      "6. Кого или что в песне не обещал выкрасть Яшка-цыган из фильма \"Неуловимые мстители\"?\n",
      "\n",
      "коня\n",
      "волю\n",
      "девчонку\n",
      "Даньку\n",
      "\n",
      "7. Что в романе \"Евгений Онегин\" было на голове Татьяны Лариной во время бала?\n",
      "\n",
      "шляпа\n",
      "панама\n",
      "берет\n",
      "капор\n",
      "\n",
      "8. Что иногда происходит с ланитами?\n",
      "\n",
      "выпадают\n",
      "слезятся\n",
      "краснеют\n",
      "тают\n",
      "\n",
      "9. Как называется один из видов жуков?\n",
      "\n",
      "артиллерист\n",
      "командор\n",
      "канонир\n",
      "бомбардир\n",
      "\n",
      "10. Возле какой горы впервые был найден драгоценный камень танзанит?\n",
      "\n",
      "Килиманджаро\n",
      "Мак-Кинли\n",
      "Аконкагуа\n",
      "Элбрус\n",
      "\n",
      "11. Какую оперу слушают в театре герои фильма \"Адъютант его превосходительства\"?\n",
      "\n",
      "\"Иван Сусанин\"\n",
      "\"Севильский цирюльник\"\n",
      "\"Травиата\"\n",
      "\"Князь Игорь\"\n",
      "\n",
      "12. Что не входило в обязанности первых стюардесс?\n",
      "\n",
      "заправлять самолет\n",
      "носить багаж\n",
      "кормить пассажиров\n",
      "уничтожать мух\n",
      "\n",
      "👍\n"
     ]
    }
   ],
   "source": [
    "with open(\"qustions.txt\", \"r\", encoding=\"utf-8\") as questions:\n",
    "    while True:\n",
    "        lines = [questions.readline() for _ in range(8)]\n",
    "        if (lines[0] == \"\"):\n",
    "            print(\"👍\")\n",
    "            break\n",
    "        question = lines[0]\n",
    "        answers = lines[2:6]\n",
    "        correct = lines[6][0]\n",
    "        available_answers = [f\"{i}\" for i in range(5)]\n",
    "        print(question)\n",
    "        print(f\"{''.join(answers)}\")\n",
    "        user_ans = input()\n",
    "        stop_flag = False\n",
    "        while True: \n",
    "            if user_ans in available_answers:\n",
    "                if user_ans == \"0\":\n",
    "                    print(\"👋\")\n",
    "                    stop_flag = True\n",
    "                if user_ans != correct:\n",
    "                    print(\"Неверно 😔\")\n",
    "                    stop_flag = True\n",
    "                break\n",
    "            print(f\"Ответ {user_ans} не валиден\\nВведите ваш ответ еще раз\")\n",
    "            user_ans = input()\n",
    "        if stop_flag:\n",
    "            break\n",
    "        "
   ]
  }
 ],
 "metadata": {
  "kernelspec": {
   "display_name": "Python 3",
   "language": "python",
   "name": "python3"
  },
  "language_info": {
   "codemirror_mode": {
    "name": "ipython",
    "version": 3
   },
   "file_extension": ".py",
   "mimetype": "text/x-python",
   "name": "python",
   "nbconvert_exporter": "python",
   "pygments_lexer": "ipython3",
   "version": "3.12.0"
  }
 },
 "nbformat": 4,
 "nbformat_minor": 2
}

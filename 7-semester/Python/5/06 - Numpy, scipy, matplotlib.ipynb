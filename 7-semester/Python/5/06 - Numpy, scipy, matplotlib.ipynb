{
 "cells": [
  {
   "cell_type": "markdown",
   "metadata": {},
   "source": [
    "# Оглавление\n",
    "\n",
    "\n",
    "* [Научные вычисления в Python](#scicalc)\n",
    "    * [numpy](#numpy)\n",
    "        * [Создание массива](#create_array)\n",
    "        * [Операции над одномерными массивами](#array_operations)\n",
    "        * [Индексация массивов](#array_indexing)\n",
    "        * [Двумерные массивы](#2D_array)\n",
    "    * [matplotlib](#matplotlib)\n",
    "        * [Аннотирование графиков](#annotate)\n",
    "        * [Трехмерная линия](#3DLine)\n",
    "        * [Опционально](#mpll_additional)\n",
    "    * [scipy](#scipy)\n",
    "        * [Оптимизация](#scipy_optimize)\n",
    "        * [Интегрирование](#scipy_integrate)\n",
    "        * [Дифференциальные уравнения](#scipy_odes)"
   ]
  },
  {
   "cell_type": "markdown",
   "metadata": {},
   "source": [
    "# Научные вычисления в Python <a class=\"anchor\" id=\"scicalc\"></a>\n",
    "\n",
    "<h3><a href=\"http://scipy.org/\">Документация по numpy и scipy</a></h3>\n",
    "<br>\n",
    "\n",
    "## numpy <a class=\"anchor\" id=\"numpy\"></a>\n",
    "Работа с $N-$мерными массивами данных.\n",
    "\n",
    "Элементы массива $-$ одного типа (однородные).\n",
    "\n",
    "Если задачу можно решить, произведя некоторую последовательность операций над массивами, то это будет столь же эффективно, как в C или matlab $-$ бОльшая часть времени тратится в библиотечных функциях, написанных на C."
   ]
  },
  {
   "cell_type": "markdown",
   "metadata": {},
   "source": [
    "<strong>Преимущества numpy-массива (array) перед Python list:</strong>\n",
    "\n",
    "1. Используют меньше памяти\n",
    "2. Обладают значительно большей функциональностью\n",
    "3. Требуют однородности данных"
   ]
  },
  {
   "cell_type": "code",
   "execution_count": null,
   "metadata": {},
   "outputs": [],
   "source": [
    "import numpy as np"
   ]
  },
  {
   "cell_type": "markdown",
   "metadata": {},
   "source": [
    "### Создание массива <a class=\"anchor\" id=\"create_array\"></a>\n",
    " \n",
    "Массив на основе данных, которые передаются в конструктор"
   ]
  },
  {
   "cell_type": "code",
   "execution_count": null,
   "metadata": {},
   "outputs": [],
   "source": [
    "a = np.array([-1,0,1,2])\n",
    "a, type(a)"
   ]
  },
  {
   "cell_type": "markdown",
   "metadata": {},
   "source": [
    "print печатает массивы в удобной форме:"
   ]
  },
  {
   "cell_type": "code",
   "execution_count": null,
   "metadata": {},
   "outputs": [],
   "source": [
    "print(a)"
   ]
  },
  {
   "cell_type": "markdown",
   "metadata": {},
   "source": [
    "Узнать форму массива (возвращается кортеж размеров):"
   ]
  },
  {
   "cell_type": "code",
   "execution_count": null,
   "metadata": {},
   "outputs": [],
   "source": [
    "a.shape"
   ]
  },
  {
   "cell_type": "markdown",
   "metadata": {},
   "source": [
    "Число измерений:"
   ]
  },
  {
   "cell_type": "code",
   "execution_count": null,
   "metadata": {},
   "outputs": [],
   "source": [
    "a.ndim"
   ]
  },
  {
   "cell_type": "markdown",
   "metadata": {},
   "source": [
    "size - это полное число элементов в массиве; len - размер по первой координате (в 1-мерном случае это то же самое)."
   ]
  },
  {
   "cell_type": "code",
   "execution_count": null,
   "metadata": {},
   "outputs": [],
   "source": [
    "a.size\n"
   ]
  },
  {
   "cell_type": "code",
   "execution_count": null,
   "metadata": {},
   "outputs": [],
   "source": [
    "len(a)"
   ]
  },
  {
   "cell_type": "markdown",
   "metadata": {},
   "source": [
    "конвертация в Python список"
   ]
  },
  {
   "cell_type": "code",
   "execution_count": null,
   "metadata": {},
   "outputs": [],
   "source": [
    "b = a.tolist()\n",
    "type(b)"
   ]
  },
  {
   "cell_type": "markdown",
   "metadata": {},
   "source": [
    "Двумерный массив из списка:"
   ]
  },
  {
   "cell_type": "code",
   "execution_count": null,
   "metadata": {},
   "outputs": [],
   "source": [
    "array2 = np.array([[1, 2, 3],\n",
    "                 [4, 5, 6],\n",
    "                 [7, 8, 9]])\n",
    "# A = np.arange(9).reshape(3,3)\n",
    "print(array2)"
   ]
  },
  {
   "cell_type": "code",
   "execution_count": null,
   "metadata": {},
   "outputs": [],
   "source": [
    "array2.shape"
   ]
  },
  {
   "cell_type": "markdown",
   "metadata": {},
   "source": [
    "Нельзя вставлять или удалять элементы в произвольном месте, но элементы можно изменять!\n",
    "\n",
    "Индексация - обычная:"
   ]
  },
  {
   "cell_type": "code",
   "execution_count": null,
   "metadata": {},
   "outputs": [],
   "source": [
    "array2[1]"
   ]
  },
  {
   "cell_type": "code",
   "execution_count": null,
   "metadata": {},
   "outputs": [],
   "source": [
    "array2[1] = [10,10,10]\n",
    "array2"
   ]
  },
  {
   "cell_type": "markdown",
   "metadata": {},
   "source": [
    "Можно использовать в цикле for:"
   ]
  },
  {
   "cell_type": "code",
   "execution_count": null,
   "metadata": {},
   "outputs": [],
   "source": [
    "for i in array2:\n",
    "    print(i)\n",
    "# почему это не очень хорошо?"
   ]
  },
  {
   "cell_type": "markdown",
   "metadata": {},
   "source": [
    "### Правильное <a href=\"https://docs.scipy.org/doc/numpy/reference/arrays.nditer.html\">итерирование</a>\n",
    "\n",
    "nditer - multi-dimensional iterator object\n",
    "\n",
    "Nditer Iteration Order - ___C___ (C order) or ___F___ (Fortran order)"
   ]
  },
  {
   "cell_type": "code",
   "execution_count": null,
   "metadata": {
    "scrolled": true
   },
   "outputs": [],
   "source": [
    "for i in np.nditer(array2):\n",
    "    print(i, end = ' ')"
   ]
  },
  {
   "cell_type": "code",
   "execution_count": null,
   "metadata": {},
   "outputs": [],
   "source": [
    "A = np.arange(9).reshape(3,3)\n",
    "for i in np.nditer(A, order='C'):\n",
    "    print(i, end=' ')   "
   ]
  },
  {
   "cell_type": "code",
   "execution_count": null,
   "metadata": {},
   "outputs": [],
   "source": [
    "for i in np.nditer(A, order='F'):\n",
    "    print(i, end=' ')"
   ]
  },
  {
   "cell_type": "markdown",
   "metadata": {},
   "source": [
    "<h4>Изменение NumPy массивов</h4>\n",
    "\n",
    "___Nditer___ считает (обрабатывает) элементы массива как readonly"
   ]
  },
  {
   "cell_type": "code",
   "execution_count": null,
   "metadata": {},
   "outputs": [],
   "source": [
    "for cell in np.nditer(A):\n",
    "    cell[...] = cell*2"
   ]
  },
  {
   "cell_type": "code",
   "execution_count": null,
   "metadata": {},
   "outputs": [],
   "source": [
    "for cell in np.nditer(A, op_flags=['readwrite']):\n",
    "    cell[...] =cell*2\n",
    "A"
   ]
  },
  {
   "cell_type": "markdown",
   "metadata": {},
   "source": [
    "Итерирование по двум массивам одновременно"
   ]
  },
  {
   "cell_type": "code",
   "execution_count": null,
   "metadata": {},
   "outputs": [],
   "source": [
    "S = np.arange(3)\n",
    "S\n",
    "\n",
    "for a,s in np.nditer([A,S]):\n",
    "    print(a, s)"
   ]
  },
  {
   "cell_type": "markdown",
   "metadata": {},
   "source": [
    "### Массив чисел с плавающей точкой:"
   ]
  },
  {
   "cell_type": "code",
   "execution_count": null,
   "metadata": {},
   "outputs": [],
   "source": [
    "array_float0 = np.array([0., 2, 1])\n",
    "array_float0, array_float0.dtype"
   ]
  },
  {
   "cell_type": "markdown",
   "metadata": {},
   "source": [
    "можно в явном виде указать при создании"
   ]
  },
  {
   "cell_type": "code",
   "execution_count": null,
   "metadata": {},
   "outputs": [],
   "source": [
    "array_float1 = np.array([0,2,1],dtype=np.float64)\n",
    "array_float0, array_float0.dtype"
   ]
  },
  {
   "cell_type": "markdown",
   "metadata": {},
   "source": [
    "можно через специальный метод __astype__"
   ]
  },
  {
   "cell_type": "code",
   "execution_count": null,
   "metadata": {},
   "outputs": [],
   "source": [
    "arr_int = np.array([0,2,1],dtype=np.int64)\n",
    "print(arr_int.dtype)\n",
    "arr_int = arr_int.astype(np.float64)\n",
    "print(arr_int)\n",
    "print(arr_int.dtype)"
   ]
  },
  {
   "cell_type": "markdown",
   "metadata": {},
   "source": [
    "Массив, значения которого вычисляются функцией:"
   ]
  },
  {
   "cell_type": "code",
   "execution_count": null,
   "metadata": {},
   "outputs": [],
   "source": [
    "np.fromfunction?"
   ]
  },
  {
   "cell_type": "code",
   "execution_count": null,
   "metadata": {},
   "outputs": [],
   "source": [
    "np.fromfunction(lambda i, j: i + j, (3, 3), dtype=np.int64)"
   ]
  },
  {
   "cell_type": "markdown",
   "metadata": {},
   "source": [
    "### Массивы специального вида, часто используемые при вычислениях:"
   ]
  },
  {
   "cell_type": "code",
   "execution_count": null,
   "metadata": {},
   "outputs": [],
   "source": [
    "I = np.identity(5) #единичная матрица\n",
    "print(I)\n"
   ]
  },
  {
   "cell_type": "code",
   "execution_count": null,
   "metadata": {},
   "outputs": [],
   "source": [
    "I.shape"
   ]
  },
  {
   "cell_type": "code",
   "execution_count": null,
   "metadata": {},
   "outputs": [],
   "source": [
    "A = np.zeros((3,4))\n",
    "print(A)"
   ]
  },
  {
   "cell_type": "code",
   "execution_count": null,
   "metadata": {},
   "outputs": [],
   "source": [
    "ones = np.ones(3,dtype=np.int64)\n",
    "print(ones)"
   ]
  },
  {
   "cell_type": "code",
   "execution_count": null,
   "metadata": {},
   "outputs": [],
   "source": [
    "full = np.full((3,3), 5)\n",
    "print(full)"
   ]
  },
  {
   "cell_type": "markdown",
   "metadata": {},
   "source": [
    "**empty** , unlike **zeros** , does not set the array values to zero, and may therefore be marginally faster. On the other hand, it requires the user to manually set all the values in the array, and should be used with caution."
   ]
  },
  {
   "cell_type": "code",
   "execution_count": null,
   "metadata": {},
   "outputs": [],
   "source": [
    "np.empty?"
   ]
  },
  {
   "cell_type": "code",
   "execution_count": null,
   "metadata": {},
   "outputs": [],
   "source": [
    "empty_matrix = np.empty((3,3)) \n",
    "\n",
    "# Array of uninitialized (arbitrary) data of the given shape, dtype, and\n",
    "#    order.  Object arrays will be initialized to None.\n",
    "print(empty_matrix)"
   ]
  },
  {
   "cell_type": "markdown",
   "metadata": {},
   "source": [
    "Аналог **range** из стандартной библиотеки $-$ функция **arange**. \n",
    "\n",
    "Аргументы могут быть с плавающей точкой (в отличие от стандартного **range**)! \n",
    "\n",
    "**NB:** Следует избегать ситуаций, когда $\\cfrac{конец−начало}{шаг} \\in \\mathbb{Z}$, потому что в этом случае включение последнего элемента зависит от ошибок округления."
   ]
  },
  {
   "cell_type": "code",
   "execution_count": null,
   "metadata": {},
   "outputs": [],
   "source": [
    "x = np.arange(-10, 11, 2)\n",
    "x"
   ]
  },
  {
   "cell_type": "code",
   "execution_count": null,
   "metadata": {},
   "outputs": [],
   "source": [
    "x.dtype"
   ]
  },
  {
   "cell_type": "code",
   "execution_count": null,
   "metadata": {},
   "outputs": [],
   "source": [
    "x = np.arange(0.,9,2)\n",
    "print(x)"
   ]
  },
  {
   "cell_type": "code",
   "execution_count": null,
   "metadata": {},
   "outputs": [],
   "source": [
    "x.dtype"
   ]
  },
  {
   "cell_type": "markdown",
   "metadata": {},
   "source": [
    "### Функция **linspace**\n",
    "\n",
    "Последовательности чисел с постоянным шагом. \n",
    "\n",
    "Начало и конец диапазона включаются; последний аргумент - число точек."
   ]
  },
  {
   "cell_type": "code",
   "execution_count": null,
   "metadata": {},
   "outputs": [],
   "source": [
    "y = np.linspace(-10, 10, 11)\n",
    "y"
   ]
  },
  {
   "cell_type": "markdown",
   "metadata": {},
   "source": [
    "Последовательность чисел с постоянным шагом по логарифмической шкале от  $10^0$ до $10^1$."
   ]
  },
  {
   "cell_type": "code",
   "execution_count": null,
   "metadata": {},
   "outputs": [],
   "source": [
    "b = np.logspace(0,1,5)\n",
    "print(b)"
   ]
  },
  {
   "cell_type": "markdown",
   "metadata": {},
   "source": [
    "Массив случайных чисел:"
   ]
  },
  {
   "cell_type": "code",
   "execution_count": null,
   "metadata": {},
   "outputs": [],
   "source": [
    "from numpy.random import random, normal\n",
    "print(random(5))"
   ]
  },
  {
   "cell_type": "markdown",
   "metadata": {},
   "source": [
    "Случайные числа с нормальным (гауссовым) распределением (среднее 0, среднеквадратичное отклонение 1)."
   ]
  },
  {
   "cell_type": "code",
   "execution_count": null,
   "metadata": {},
   "outputs": [],
   "source": [
    "print(normal(size=5))"
   ]
  },
  {
   "cell_type": "code",
   "execution_count": null,
   "metadata": {},
   "outputs": [],
   "source": [
    "array = np.random.randint(-10, 10, 12)\n",
    "array"
   ]
  },
  {
   "cell_type": "code",
   "execution_count": null,
   "metadata": {},
   "outputs": [],
   "source": [
    "np.random.randint?"
   ]
  },
  {
   "cell_type": "markdown",
   "metadata": {},
   "source": [
    "### Функции агрегаты"
   ]
  },
  {
   "cell_type": "code",
   "execution_count": null,
   "metadata": {},
   "outputs": [],
   "source": [
    "np.mean?"
   ]
  },
  {
   "cell_type": "code",
   "execution_count": null,
   "metadata": {},
   "outputs": [],
   "source": [
    "print(array.max())\n",
    "print(array.min())\n",
    "# Compute the arithmetic mean along the specified axis.\n",
    "print(array.mean())\n",
    "print(array.sum())\n",
    "# Returns the standard deviation of the array elements along given axis.\n",
    "print(array.std())\n",
    "# Compute the median along the specified axis.\n",
    "# Returns the median of the array elements.\n",
    "print(np.median(array))"
   ]
  },
  {
   "cell_type": "markdown",
   "metadata": {},
   "source": [
    "## Операции над одномерными массивами <a class=\"anchor\" id=\"array_operations\"></a>"
   ]
  },
  {
   "cell_type": "markdown",
   "metadata": {},
   "source": [
    "Арифметические операции проводятся поэлементно"
   ]
  },
  {
   "cell_type": "code",
   "execution_count": null,
   "metadata": {},
   "outputs": [],
   "source": [
    "a = np.array([-1,0,1,2])\n",
    "b = np.array([7,-2,-3,1])\n",
    "print(a+b)\n",
    "print(a-b)\n",
    "print(a*b)"
   ]
  },
  {
   "cell_type": "markdown",
   "metadata": {},
   "source": [
    "Скалярное произведение:"
   ]
  },
  {
   "cell_type": "code",
   "execution_count": null,
   "metadata": {},
   "outputs": [],
   "source": [
    "a@b"
   ]
  },
  {
   "cell_type": "code",
   "execution_count": null,
   "metadata": {},
   "outputs": [],
   "source": [
    "print(a / b)\n",
    "print(b**2)"
   ]
  },
  {
   "cell_type": "code",
   "execution_count": null,
   "metadata": {},
   "outputs": [],
   "source": [
    "a,b "
   ]
  },
  {
   "cell_type": "code",
   "execution_count": null,
   "metadata": {},
   "outputs": [],
   "source": [
    "# скалярное произведение\n",
    "a.dot(b)"
   ]
  },
  {
   "cell_type": "code",
   "execution_count": null,
   "metadata": {},
   "outputs": [],
   "source": [
    "np.dot(a, b)"
   ]
  },
  {
   "cell_type": "code",
   "execution_count": null,
   "metadata": {},
   "outputs": [],
   "source": [
    "# векторное произведение\n",
    "np.cross(a, b)"
   ]
  },
  {
   "cell_type": "markdown",
   "metadata": {},
   "source": [
    "Когда операнды разных типов, они пиводятся к большему типу (больший тип?)."
   ]
  },
  {
   "cell_type": "code",
   "execution_count": null,
   "metadata": {},
   "outputs": [],
   "source": [
    "i = np.ones(4,dtype = np.float64)\n",
    "print(a + i)"
   ]
  },
  {
   "cell_type": "markdown",
   "metadata": {},
   "source": [
    "### Универсальные функции \n",
    "\n",
    "___NumPy___ содержит элементарные функции, которые тоже применяются к массивам поэлементно.\n",
    "\n",
    "Они называются универсальными функциями (ufunc): sqrt, sin, cos, log, exp"
   ]
  },
  {
   "cell_type": "code",
   "execution_count": null,
   "metadata": {},
   "outputs": [],
   "source": [
    "np.sin, type(np.sin)"
   ]
  },
  {
   "cell_type": "code",
   "execution_count": null,
   "metadata": {},
   "outputs": [],
   "source": [
    "print(np.sin(a))"
   ]
  },
  {
   "cell_type": "markdown",
   "metadata": {},
   "source": [
    "Один из операндов может быть скаляром, а не массивом:"
   ]
  },
  {
   "cell_type": "code",
   "execution_count": null,
   "metadata": {},
   "outputs": [],
   "source": [
    "print(a+1)\n",
    "print(2*b)"
   ]
  },
  {
   "cell_type": "markdown",
   "metadata": {},
   "source": [
    "Сравнения дают булевы массивы:"
   ]
  },
  {
   "cell_type": "code",
   "execution_count": null,
   "metadata": {},
   "outputs": [],
   "source": [
    "print(a > b)\n",
    "print(a == b)\n",
    "c = a >= 2\n",
    "print(c)"
   ]
  },
  {
   "cell_type": "markdown",
   "metadata": {},
   "source": [
    "Есть кванторы \"существует\" и \"для всех\".\n",
    "Удобно проверять наличие 0 (или если вдруг все элементы 0):"
   ]
  },
  {
   "cell_type": "code",
   "execution_count": null,
   "metadata": {},
   "outputs": [],
   "source": [
    "np.any(c), np.all(c)"
   ]
  },
  {
   "cell_type": "markdown",
   "metadata": {},
   "source": [
    "Модификация на месте:"
   ]
  },
  {
   "cell_type": "code",
   "execution_count": null,
   "metadata": {
    "scrolled": true
   },
   "outputs": [],
   "source": [
    "a += 1\n",
    "print(a)"
   ]
  },
  {
   "cell_type": "code",
   "execution_count": null,
   "metadata": {},
   "outputs": [],
   "source": [
    "a // 4"
   ]
  },
  {
   "cell_type": "markdown",
   "metadata": {},
   "source": [
    "<a href=\"https://docs.scipy.org/doc/numpy/reference/generated/numpy.true_divide.html\">True divide</a> - Returns a true division of the inputs, element-wise."
   ]
  },
  {
   "cell_type": "code",
   "execution_count": null,
   "metadata": {},
   "outputs": [],
   "source": [
    "a = np.true_divide(a, 4)\n",
    "a"
   ]
  },
  {
   "cell_type": "code",
   "execution_count": null,
   "metadata": {},
   "outputs": [],
   "source": [
    "b*=2\n",
    "print(b)"
   ]
  },
  {
   "cell_type": "code",
   "execution_count": null,
   "metadata": {
    "scrolled": true
   },
   "outputs": [],
   "source": [
    "b/=a # просто b/a не получится\n",
    "print(b)"
   ]
  },
  {
   "cell_type": "code",
   "execution_count": null,
   "metadata": {},
   "outputs": [],
   "source": [
    "1+=a"
   ]
  },
  {
   "cell_type": "markdown",
   "metadata": {},
   "source": [
    "При выполнении операций над массивами деление на 0 не возбуждает исключения, а даёт значения _np.nan_ или _np.inf_"
   ]
  },
  {
   "cell_type": "code",
   "execution_count": null,
   "metadata": {},
   "outputs": [],
   "source": [
    "print(np.array([0.0,0.0,1.0,-1.0])/np.array([1.0,0.0,0.0,0.0]))"
   ]
  },
  {
   "cell_type": "code",
   "execution_count": null,
   "metadata": {},
   "outputs": [],
   "source": [
    "np.nan+1, np.inf+1, np.inf*0, 1./np.inf, np.inf/np.inf"
   ]
  },
  {
   "cell_type": "code",
   "execution_count": null,
   "metadata": {},
   "outputs": [],
   "source": [
    "np.nan==np.nan, np.inf==np.inf"
   ]
  },
  {
   "cell_type": "markdown",
   "metadata": {},
   "source": [
    "Функция **sort** возвращает отсортированную копию, метод **sort** сортирует на месте."
   ]
  },
  {
   "cell_type": "code",
   "execution_count": null,
   "metadata": {},
   "outputs": [],
   "source": [
    "print(np.sort(b))\n",
    "print(b)"
   ]
  },
  {
   "cell_type": "code",
   "execution_count": null,
   "metadata": {},
   "outputs": [],
   "source": [
    "b.sort()\n",
    "print(b)"
   ]
  },
  {
   "cell_type": "markdown",
   "metadata": {},
   "source": [
    "Объединение массивов:"
   ]
  },
  {
   "cell_type": "code",
   "execution_count": null,
   "metadata": {
    "scrolled": true
   },
   "outputs": [],
   "source": [
    "a = np.hstack((a,b))\n",
    "print(a)"
   ]
  },
  {
   "cell_type": "markdown",
   "metadata": {},
   "source": [
    "Расщепление массива в позициях pos1 и pos2:"
   ]
  },
  {
   "cell_type": "code",
   "execution_count": null,
   "metadata": {},
   "outputs": [],
   "source": [
    "pos1 = 2 \n",
    "pos2 = 6\n",
    "np.hsplit(a,[pos1,pos2])"
   ]
  },
  {
   "cell_type": "code",
   "execution_count": null,
   "metadata": {},
   "outputs": [],
   "source": [
    "a = np.random.randint(-10, 10, 14)\n",
    "print(a)\n",
    "np.array_split(a, 3)"
   ]
  },
  {
   "cell_type": "markdown",
   "metadata": {},
   "source": [
    "Функции **delete**, **insert** и **append** не меняют массив на месте, а возвращают новый массив, в котором удалены, вставлены в середину или добавлены в конец какие-то элементы."
   ]
  },
  {
   "cell_type": "code",
   "execution_count": null,
   "metadata": {},
   "outputs": [],
   "source": [
    "a = np.delete(a, [3,6])\n",
    "print(a)"
   ]
  },
  {
   "cell_type": "code",
   "execution_count": null,
   "metadata": {},
   "outputs": [],
   "source": [
    "a = np.insert(a, 2, [111,222])\n",
    "print(a)"
   ]
  },
  {
   "cell_type": "code",
   "execution_count": null,
   "metadata": {},
   "outputs": [],
   "source": [
    "a = np.append(a, [1,2,3])\n",
    "print(a)"
   ]
  },
  {
   "cell_type": "markdown",
   "metadata": {},
   "source": [
    "### Индексация массивов  <a class=\"anchor\" id=\"array_indexing\"></a>"
   ]
  },
  {
   "cell_type": "code",
   "execution_count": null,
   "metadata": {},
   "outputs": [],
   "source": [
    "a = np.linspace(0,1,11)\n",
    "b=a[2]\n",
    "b"
   ]
  },
  {
   "cell_type": "markdown",
   "metadata": {},
   "source": [
    "Срезы"
   ]
  },
  {
   "cell_type": "code",
   "execution_count": null,
   "metadata": {},
   "outputs": [],
   "source": [
    "b=a[2:6]\n",
    "print(b)"
   ]
  },
  {
   "cell_type": "code",
   "execution_count": null,
   "metadata": {},
   "outputs": [],
   "source": [
    "b[0]=-0.2\n",
    "print(b)\n",
    "print(a)"
   ]
  },
  {
   "cell_type": "code",
   "execution_count": null,
   "metadata": {},
   "outputs": [],
   "source": [
    "b=a[1:10:2]\n",
    "print(b)\n",
    "b=a[len(a):0:-1]\n",
    "print(b)\n"
   ]
  },
  {
   "cell_type": "markdown",
   "metadata": {},
   "source": [
    "Подмассиву можно присвоить значение $-$ массив правильного размера или скаляр:"
   ]
  },
  {
   "cell_type": "code",
   "execution_count": null,
   "metadata": {},
   "outputs": [],
   "source": [
    "a"
   ]
  },
  {
   "cell_type": "code",
   "execution_count": null,
   "metadata": {},
   "outputs": [],
   "source": [
    "a[1:10:3] = 0\n",
    "print(a)"
   ]
  },
  {
   "cell_type": "code",
   "execution_count": null,
   "metadata": {},
   "outputs": [],
   "source": [
    "# Тут опять создаётся только новый заголовок, указывающий на те же данные.\n",
    "b = a[:]\n",
    "b[1] = 0.1\n",
    "print(a)"
   ]
  },
  {
   "cell_type": "code",
   "execution_count": null,
   "metadata": {},
   "outputs": [],
   "source": [
    "b = a.copy()\n",
    "b[2] = 0\n",
    "print(b)\n",
    "print(a)"
   ]
  },
  {
   "cell_type": "markdown",
   "metadata": {},
   "source": [
    "### Отборы (фильтрация)"
   ]
  },
  {
   "cell_type": "code",
   "execution_count": null,
   "metadata": {},
   "outputs": [],
   "source": [
    "a"
   ]
  },
  {
   "cell_type": "code",
   "execution_count": null,
   "metadata": {},
   "outputs": [],
   "source": [
    "a[(a > 0.5)]"
   ]
  },
  {
   "cell_type": "code",
   "execution_count": null,
   "metadata": {},
   "outputs": [],
   "source": [
    "a[(a > -5) & (a < a.mean())]"
   ]
  },
  {
   "cell_type": "code",
   "execution_count": null,
   "metadata": {},
   "outputs": [],
   "source": [
    "# список индексов\n",
    "print(a[[2,3,5]])"
   ]
  },
  {
   "cell_type": "code",
   "execution_count": null,
   "metadata": {},
   "outputs": [],
   "source": [
    "print(a[np.array([2,3,5])])"
   ]
  },
  {
   "cell_type": "markdown",
   "metadata": {},
   "source": [
    "### Матрицы и двумерные массивы  <a class=\"anchor\" id=\"2D_array\"></a>"
   ]
  },
  {
   "cell_type": "code",
   "execution_count": null,
   "metadata": {},
   "outputs": [],
   "source": [
    "a = np.array([[0.0,1.0],[-1.0,0.0]])\n",
    "print(a)"
   ]
  },
  {
   "cell_type": "markdown",
   "metadata": {},
   "source": [
    "Атрибуту shape можно присвоить новое значение $-$ кортеж размеров по всем координатам. Получится новый заголовок массива; его данные не изменятся."
   ]
  },
  {
   "cell_type": "code",
   "execution_count": null,
   "metadata": {},
   "outputs": [],
   "source": [
    "b = np.linspace(0,3,4)\n",
    "b.shape"
   ]
  },
  {
   "cell_type": "code",
   "execution_count": null,
   "metadata": {
    "scrolled": true
   },
   "outputs": [],
   "source": [
    "b.shape=2,2\n",
    "print(b)\n"
   ]
  },
  {
   "cell_type": "code",
   "execution_count": null,
   "metadata": {},
   "outputs": [],
   "source": [
    "# размерность\n",
    "print(b.ndim)\n",
    "# форма массива\n",
    "print(b.shape)\n",
    "b"
   ]
  },
  {
   "cell_type": "markdown",
   "metadata": {},
   "source": [
    "С помощью random и randint тоже можно создавать двумерные (и многомерные) массивы (трехмерные + тензоры)"
   ]
  },
  {
   "cell_type": "code",
   "execution_count": null,
   "metadata": {},
   "outputs": [],
   "source": [
    "array = np.random.randint?"
   ]
  },
  {
   "cell_type": "code",
   "execution_count": null,
   "metadata": {},
   "outputs": [],
   "source": [
    "array = np.random.randint"
   ]
  },
  {
   "cell_type": "code",
   "execution_count": null,
   "metadata": {},
   "outputs": [],
   "source": [
    "array = np.random.randint"
   ]
  },
  {
   "cell_type": "code",
   "execution_count": null,
   "metadata": {},
   "outputs": [],
   "source": [
    "array = np.random.randint(-5, 5, (2,6), np.int64)\n",
    "array"
   ]
  },
  {
   "cell_type": "code",
   "execution_count": null,
   "metadata": {
    "scrolled": true
   },
   "outputs": [],
   "source": [
    "array.reshape(3,4)"
   ]
  },
  {
   "cell_type": "markdown",
   "metadata": {},
   "source": [
    "Можем изменить не форму, а размер:"
   ]
  },
  {
   "cell_type": "code",
   "execution_count": null,
   "metadata": {},
   "outputs": [],
   "source": [
    "array = np.resize(array, (2,3))\n",
    "array"
   ]
  },
  {
   "cell_type": "markdown",
   "metadata": {},
   "source": [
    "Поэлементное и матричное умножение:"
   ]
  },
  {
   "cell_type": "code",
   "execution_count": null,
   "metadata": {},
   "outputs": [],
   "source": [
    "a = np.random.randint(2, 4, (2,2), np.int64)\n",
    "b = np.random.randint(-2, 2, (2,2), np.int64)\n",
    "print(a)\n",
    "print(b)"
   ]
  },
  {
   "cell_type": "code",
   "execution_count": null,
   "metadata": {},
   "outputs": [],
   "source": [
    "# поэлементное\n",
    "print(a*b)\n",
    "# матричное\n",
    "print(a@b)\n",
    "print(b@a)"
   ]
  },
  {
   "cell_type": "markdown",
   "metadata": {},
   "source": [
    "Умножение матрицы на вектор"
   ]
  },
  {
   "cell_type": "code",
   "execution_count": null,
   "metadata": {},
   "outputs": [],
   "source": [
    "v = np.array([1,-1], dtype=np.float64)\n",
    "print(b@v)"
   ]
  },
  {
   "cell_type": "code",
   "execution_count": null,
   "metadata": {
    "scrolled": true
   },
   "outputs": [],
   "source": [
    "print(v@b)"
   ]
  },
  {
   "cell_type": "markdown",
   "metadata": {},
   "source": [
    "Внешнее произведение  $a_{ij} = u_i v_j$"
   ]
  },
  {
   "cell_type": "code",
   "execution_count": null,
   "metadata": {
    "scrolled": true
   },
   "outputs": [],
   "source": [
    "u = np.linspace(1,2,2)\n",
    "v = np.linspace(2,4,3)\n",
    "aij = np.outer(u,v)\n",
    "print(aij)"
   ]
  },
  {
   "cell_type": "markdown",
   "metadata": {},
   "source": [
    "**Axis** $-$ оси.\n",
    "\n",
    "* 0 $-$ ось строк\n",
    "* 1 $-$ ось столбцов"
   ]
  },
  {
   "cell_type": "code",
   "execution_count": null,
   "metadata": {},
   "outputs": [],
   "source": [
    "matrix_delete = np.random.randint(0, 10, (4,5))\n",
    "matrix_delete"
   ]
  },
  {
   "cell_type": "code",
   "execution_count": null,
   "metadata": {},
   "outputs": [],
   "source": [
    "# удаление строки c индексом 2\n",
    "np.delete(matrix_delete, 2, axis=0)"
   ]
  },
  {
   "cell_type": "code",
   "execution_count": null,
   "metadata": {},
   "outputs": [],
   "source": [
    "# удаление столбца c индексом 2\n",
    "np.delete(matrix_delete, 2, axis=1)"
   ]
  },
  {
   "cell_type": "code",
   "execution_count": null,
   "metadata": {},
   "outputs": [],
   "source": [
    "# максимум в каждом столбце\n",
    "matrix_delete.max(axis=0)"
   ]
  },
  {
   "cell_type": "code",
   "execution_count": null,
   "metadata": {},
   "outputs": [],
   "source": [
    "a, b"
   ]
  },
  {
   "cell_type": "markdown",
   "metadata": {},
   "source": [
    "Конкатенация $-$ Join a sequence of arrays along an existing axis.\n",
    "```python\n",
    "    concatenate((a1, a2, ...), axis=0, out=None)\n",
    "```"
   ]
  },
  {
   "cell_type": "code",
   "execution_count": null,
   "metadata": {},
   "outputs": [],
   "source": [
    "# добавим b к a как столбцы\n",
    "concat_matrix_сol = np.concatenate((a, b), axis=1)\n",
    "concat_matrix_сol"
   ]
  },
  {
   "cell_type": "code",
   "execution_count": null,
   "metadata": {},
   "outputs": [],
   "source": [
    "# добавим b к a как строки\n",
    "concat_matrix_str = np.concatenate((a, b), axis=0)\n",
    "concat_matrix_str"
   ]
  },
  {
   "cell_type": "markdown",
   "metadata": {},
   "source": [
    "### Индексация\n",
    "\n",
    "Строка:"
   ]
  },
  {
   "cell_type": "code",
   "execution_count": null,
   "metadata": {},
   "outputs": [],
   "source": [
    "I = np.eye(4)\n",
    "print(I)"
   ]
  },
  {
   "cell_type": "code",
   "execution_count": null,
   "metadata": {},
   "outputs": [],
   "source": [
    "print(I[1])"
   ]
  },
  {
   "cell_type": "markdown",
   "metadata": {},
   "source": [
    "Цикл по строкам:"
   ]
  },
  {
   "cell_type": "code",
   "execution_count": null,
   "metadata": {},
   "outputs": [],
   "source": [
    "for row in I:\n",
    "    print(row)"
   ]
  },
  {
   "cell_type": "markdown",
   "metadata": {},
   "source": [
    "Столбец:"
   ]
  },
  {
   "cell_type": "code",
   "execution_count": null,
   "metadata": {},
   "outputs": [],
   "source": [
    "print(I[:2, 2])"
   ]
  },
  {
   "cell_type": "markdown",
   "metadata": {},
   "source": [
    "Подматрица:"
   ]
  },
  {
   "cell_type": "code",
   "execution_count": null,
   "metadata": {},
   "outputs": [],
   "source": [
    "print(I[0:2,1:3])"
   ]
  },
  {
   "cell_type": "code",
   "execution_count": null,
   "metadata": {},
   "outputs": [],
   "source": [
    "I[1:, 2:] = 10\n",
    "print(I)"
   ]
  },
  {
   "cell_type": "markdown",
   "metadata": {},
   "source": [
    "### Специальные операции\n",
    "Транспонированная матрица:"
   ]
  },
  {
   "cell_type": "code",
   "execution_count": null,
   "metadata": {},
   "outputs": [],
   "source": [
    "print(b.T)"
   ]
  },
  {
   "cell_type": "markdown",
   "metadata": {},
   "source": [
    "в массив"
   ]
  },
  {
   "cell_type": "code",
   "execution_count": null,
   "metadata": {},
   "outputs": [],
   "source": [
    "b"
   ]
  },
  {
   "cell_type": "code",
   "execution_count": null,
   "metadata": {},
   "outputs": [],
   "source": [
    "b.flatten()"
   ]
  },
  {
   "cell_type": "markdown",
   "metadata": {},
   "source": [
    "Соединение матриц по горизонтали и по вертикали:"
   ]
  },
  {
   "cell_type": "code",
   "execution_count": null,
   "metadata": {},
   "outputs": [],
   "source": [
    "a = np.array([[0,1],[2,3]])\n",
    "b = np.array([[4,5,6],[7,8,9]])\n",
    "c = np.array([[4,5],[6,7],[8,9]])"
   ]
  },
  {
   "cell_type": "code",
   "execution_count": null,
   "metadata": {},
   "outputs": [],
   "source": [
    "print(np.hstack((a,b)))"
   ]
  },
  {
   "cell_type": "code",
   "execution_count": null,
   "metadata": {},
   "outputs": [],
   "source": [
    "print(np.vstack((a,c)))"
   ]
  },
  {
   "cell_type": "markdown",
   "metadata": {},
   "source": [
    "sum - сумма всех элементов; \n",
    "\n",
    "sum(0) - суммы столбцов; \n",
    "\n",
    "sum(1) - суммы строк\n",
    "\n",
    "prod, max, min - аналогично"
   ]
  },
  {
   "cell_type": "code",
   "execution_count": null,
   "metadata": {},
   "outputs": [],
   "source": [
    "b.sum(), b.sum(0), b.sum(1)"
   ]
  },
  {
   "cell_type": "code",
   "execution_count": null,
   "metadata": {},
   "outputs": [],
   "source": [
    "np.trace(a) # <- сумма диагональных элементов"
   ]
  },
  {
   "cell_type": "markdown",
   "metadata": {},
   "source": [
    "## linalg"
   ]
  },
  {
   "cell_type": "code",
   "execution_count": null,
   "metadata": {},
   "outputs": [],
   "source": [
    "a = np.array([[0,1],[2,3]])"
   ]
  },
  {
   "cell_type": "code",
   "execution_count": null,
   "metadata": {},
   "outputs": [],
   "source": [
    "# обратная матрица\n",
    "np.linalg.inv(a)"
   ]
  },
  {
   "cell_type": "code",
   "execution_count": null,
   "metadata": {},
   "outputs": [],
   "source": [
    "# определитель\n",
    "np.linalg.det(a)"
   ]
  },
  {
   "cell_type": "code",
   "execution_count": null,
   "metadata": {},
   "outputs": [],
   "source": [
    "# ранг\n",
    "np.linalg.matrix_rank(a)"
   ]
  },
  {
   "cell_type": "code",
   "execution_count": null,
   "metadata": {},
   "outputs": [],
   "source": [
    "# собственные числа и вектора (можно и по отдельности)\n",
    "eigenvals, eigenvectors = np.linalg.eig(a)\n",
    "print(eigenvals)\n",
    "print(eigenvectors)"
   ]
  },
  {
   "cell_type": "code",
   "execution_count": null,
   "metadata": {},
   "outputs": [],
   "source": [
    "#eigenvectors[0] - это не собственный вектор!\n",
    "v1 = eigenvectors[:, 0]\n",
    "v1\n",
    "a@v1"
   ]
  },
  {
   "cell_type": "code",
   "execution_count": null,
   "metadata": {},
   "outputs": [],
   "source": [
    "eigenvals[0] * v1"
   ]
  },
  {
   "cell_type": "markdown",
   "metadata": {},
   "source": [
    "### работа с файлами из numpy"
   ]
  },
  {
   "cell_type": "code",
   "execution_count": null,
   "metadata": {},
   "outputs": [],
   "source": [
    "np.loadtxt?"
   ]
  },
  {
   "cell_type": "code",
   "execution_count": null,
   "metadata": {},
   "outputs": [],
   "source": [
    "np.genfromtxt?"
   ]
  },
  {
   "cell_type": "code",
   "execution_count": null,
   "metadata": {},
   "outputs": [],
   "source": [
    "np.savetxt?"
   ]
  },
  {
   "cell_type": "markdown",
   "metadata": {},
   "source": [
    "## matplotlib  <a class=\"anchor\" id=\"matplotlib\"></a>\n",
    "<br>\n",
    "\n",
    "<font size=\"4\">[Документация по matplotlib](https://matplotlib.org/)</font> - визуализация данных  \n",
    "\n",
    "\n",
    "<font size=\"4\">[Официальный туториал](https://matplotlib.org/users/pyplot_tutorial.html)</font>\n",
    "\n",
    "\n",
    "Есть и другие пакеты...\n",
    "\n",
    "Мы будем использовать подпакет `pyplot`. Он содержит простые функции для построения графиков, похожие на аналогичные функции в Matlab.\n",
    "\n",
    "```python\n",
    "%matplotlib inline\n",
    "# графики встраиваются в блокнот в виде статического изображения\n",
    "%matplotlib\n",
    "# в отдельном окне\n",
    "```\n",
    "\n"
   ]
  },
  {
   "cell_type": "markdown",
   "metadata": {},
   "source": [
    "При необходимости, можно переключить формат, в котором выводятся графики. \n",
    "\n",
    "- растровые (png, jpg),\n",
    "- векторные (eps, pdf, svg)\n",
    "\n",
    "Векторные форматы позволяют сохранить качество при масштабировании и печати, но требуют больше ресурсов. По умолчанию используется растровый формат png\n",
    "\n",
    "```python\n",
    "%config InlineBackend.figure_format = 'svg' #векторный формат #векторный формат\n",
    "```\n",
    "\n",
    "__Для серьёзной трёхмерной визуализации данных лучше пользоваться более мощными специализированными системами.__"
   ]
  },
  {
   "cell_type": "code",
   "execution_count": null,
   "metadata": {},
   "outputs": [],
   "source": [
    "import matplotlib.pyplot as plt\n",
    "# pip install git+https://github.com/garrettj403/SciencePlots\n",
    "plt.style.use(['science','grid','notebook'])"
   ]
  },
  {
   "cell_type": "markdown",
   "metadata": {},
   "source": [
    "Давайте оформим график!"
   ]
  },
  {
   "cell_type": "code",
   "execution_count": null,
   "metadata": {},
   "outputs": [],
   "source": [
    "x = np.linspace(-10, 10, 20)\n",
    "y = x**3"
   ]
  },
  {
   "cell_type": "code",
   "execution_count": null,
   "metadata": {},
   "outputs": [],
   "source": [
    "plt.plot(x, y, 'ro')\n",
    "plt.show()"
   ]
  },
  {
   "cell_type": "code",
   "execution_count": null,
   "metadata": {
    "scrolled": true
   },
   "outputs": [],
   "source": [
    "# Сокращенная форма для указания параметров графика\n",
    "plt.plot(x, y, 'ro--')"
   ]
  },
  {
   "cell_type": "code",
   "execution_count": null,
   "metadata": {},
   "outputs": [],
   "source": [
    "import matplotlib.pyplot\n",
    "plot(x, y, 'yx-')"
   ]
  },
  {
   "cell_type": "code",
   "execution_count": null,
   "metadata": {},
   "outputs": [],
   "source": [
    "plot(x, y, 'g.')"
   ]
  },
  {
   "cell_type": "code",
   "execution_count": null,
   "metadata": {},
   "outputs": [],
   "source": [
    "plot() #<-Shift+Tab"
   ]
  },
  {
   "cell_type": "code",
   "execution_count": null,
   "metadata": {},
   "outputs": [],
   "source": [
    "plot(x, y, color='red', marker='o', linestyle='--', markerfacecolor='blue');"
   ]
  },
  {
   "cell_type": "code",
   "execution_count": null,
   "metadata": {},
   "outputs": [],
   "source": [
    "plot(x, y, color='red', marker='o', linestyle='--', markerfacecolor='blue', lw=0.7);"
   ]
  },
  {
   "cell_type": "markdown",
   "metadata": {},
   "source": [
    "Для оформления графиков можно использовать LaTeX (в title, label, ...). \n",
    "\n",
    "Чтобы проблем не было, ставьте `r` перед строкой с формулой (чтобы не было конфликтов с интерпретатором Python)"
   ]
  },
  {
   "cell_type": "code",
   "execution_count": null,
   "metadata": {
    "scrolled": true
   },
   "outputs": [],
   "source": [
    "from matplotlib.pyplot import plot, grid, legend, xlabel, ylabel, ylim, title, xticks, figure\n",
    "\n",
    "# можно поиграться с размером figure\n",
    "figure(figsize=(6, 4))\n",
    "plot(x, y, color='red', marker='o', linestyle='--', markerfacecolor='blue', label=r'$y = x ^3$');\n",
    "grid() # сетка\n",
    "legend(loc='best', fontsize=16);\n",
    "\n",
    "#Подписи для осей:\n",
    "xlabel('x', fontsize=14)\n",
    "# повернём подпись на 90 градусов\n",
    "ylabel('y', fontsize=14, rotation=0)\n",
    "xticks(rotation=45, ha='right')\n",
    "\n",
    "#Диапазон оси y:\n",
    "ylim(-100, 90)\n",
    "\n",
    "#Заголовок:\n",
    "title(r'График функции $y = x ^3 $', fontsize=16, y=1.05);"
   ]
  },
  {
   "cell_type": "markdown",
   "metadata": {},
   "source": [
    "### [Аннотирование графиков](http://matplotlib.org/users/annotations_guide.html) <a class=\"anchor\" id=\"annotate\"></a>\n",
    "\n",
    "\n",
    "- text() - текстовые пояснения на графиках можно выводить с помощью функции. \n",
    "- annotate() - позволяет создавать более сложные аннотации, например, со стрелками, указывающими на определенную область графика. \n",
    "- axhline(), axvline() - горизонтальные и вертикальные опорные линии."
   ]
  },
  {
   "cell_type": "code",
   "execution_count": null,
   "metadata": {
    "scrolled": true
   },
   "outputs": [],
   "source": [
    "from matplotlib.pyplot import axhline, text, annotate\n",
    " \n",
    "t = np.linspace(0., 4 * np.pi, 101)\n",
    "f = np.sin(t) + 3\n",
    "plt.plot(t,f)\n",
    "\n",
    "axhline(3,color='brown',linestyle='--')\n",
    "text(10.5, 3.05, 'Среднее')\n",
    "annotate('Локальный\\nминимум', xy=(3 * np.pi / 2, 2), \n",
    "             xytext=(3.6, 2.7), \n",
    "             arrowprops=dict(arrowstyle='->', color='red'));"
   ]
  },
  {
   "cell_type": "markdown",
   "metadata": {},
   "source": [
    "### Трёхмерная линия <a class=\"anchor\" id=\"3DLine\"></a>"
   ]
  },
  {
   "cell_type": "code",
   "execution_count": null,
   "metadata": {},
   "outputs": [],
   "source": [
    "# pip install git+https://github.com/garrettj403/SciencePlots\n",
    "plt.style.use(['default','notebook'])"
   ]
  },
  {
   "cell_type": "code",
   "execution_count": null,
   "metadata": {},
   "outputs": [],
   "source": [
    "from math import pi\n",
    "from matplotlib.pyplot import figure\n",
    "# import matplotlib.pyplot as plt\n",
    "from mpl_toolkits.mplot3d import Axes3D\n",
    "\n",
    "t = np.linspace(0,4*pi,100)\n",
    "x = np.cos(t)\n",
    "y = np.sin(t)\n",
    "z = t/(4*pi)"
   ]
  },
  {
   "cell_type": "markdown",
   "metadata": {},
   "source": [
    "figure() - это текущий рисунок, создаём в нём объект __ax__, потом используем его методы."
   ]
  },
  {
   "cell_type": "code",
   "execution_count": null,
   "metadata": {
    "scrolled": false
   },
   "outputs": [],
   "source": [
    "fig = figure()\n",
    "ax = Axes3D(fig) # объект класса Axes3D\n",
    "ax.plot(x,y,z) \n",
    "plt.show()"
   ]
  },
  {
   "cell_type": "markdown",
   "metadata": {},
   "source": [
    "Взглянем под другим углом:"
   ]
  },
  {
   "cell_type": "code",
   "execution_count": null,
   "metadata": {
    "scrolled": false
   },
   "outputs": [],
   "source": [
    "fig=figure()\n",
    "ax=Axes3D(fig)\n",
    "ax.elev, ax.azim = 45, 45\n",
    "ax.plot(x,y,z)\n",
    "plt.show()"
   ]
  },
  {
   "cell_type": "markdown",
   "metadata": {},
   "source": [
    "## scipy <a class=\"anchor\" id=\"scipy\"></a>\n",
    "\n",
    "* Библиотека для научных вычислений\n",
    "* построена \"поверх\" NumPy\n",
    "\n",
    "Подпакеты:\n",
    "\n",
    "* cluster $-$ алгоритмы кластеризации\n",
    "* constants $-$ физические и математические константы\n",
    "* fftpack $-$ связанное с быстрым преобразованием Фурье\n",
    "* integrate $-$ интегрирование и решение ОДУ\n",
    "* interpolate $-$ интерполяция и сглаживание сплайнов\n",
    "* io $-$ ввод-вывод\n",
    "* linalg $-$ линейная алгебра\n",
    "* ndimage $-$ N-мерная обработка изображений\n",
    "* odr $-$ ортогональная регрессия\n",
    "* optimize $-$ оптимизация и поиск корней\n",
    "* signal $-$ обработка сигналов\n",
    "* sparse $-$ разреженные матрицы\n",
    "* spatial $-$ пространственные данные и алгоритмы работы с ними (KD-деревья, диаграммы Вороного и т.д.)\n",
    "* special $-$ специальные функции (Airy functions, Elliptic functions and integrals, Bessel functions ...)\n",
    "* stats $-$ large number of probability distributions, summary and frequency statistics, correlation functions and statistical tests, masked statistics, kernel density estimation, quasi-Monte Carlo functionality, and more.\n",
    "\n"
   ]
  },
  {
   "cell_type": "markdown",
   "metadata": {},
   "source": [
    "### [Оптимизация](https://docs.scipy.org/doc/scipy/reference/tutorial/optimize.html)   <a class=\"anchor\" id=\"scipy_optimize\"></a>\n"
   ]
  },
  {
   "cell_type": "code",
   "execution_count": null,
   "metadata": {
    "scrolled": false
   },
   "outputs": [],
   "source": [
    "# не выполнять\n",
    "import scipy\n",
    "help(scipy.integrate)"
   ]
  },
  {
   "cell_type": "code",
   "execution_count": null,
   "metadata": {},
   "outputs": [],
   "source": [
    "from scipy.optimize import minimize\n",
    "\n",
    "# функция и начальное приближение\n",
    "result = minimize(lambda y: (y - 1) ** 2 + 1, 4)"
   ]
  },
  {
   "cell_type": "code",
   "execution_count": null,
   "metadata": {
    "scrolled": true
   },
   "outputs": [],
   "source": [
    "result"
   ]
  },
  {
   "cell_type": "code",
   "execution_count": null,
   "metadata": {},
   "outputs": [],
   "source": [
    "result.x"
   ]
  },
  {
   "cell_type": "code",
   "execution_count": null,
   "metadata": {},
   "outputs": [],
   "source": [
    "result.x[0]"
   ]
  },
  {
   "cell_type": "code",
   "execution_count": null,
   "metadata": {},
   "outputs": [],
   "source": [
    "minimize?"
   ]
  },
  {
   "cell_type": "markdown",
   "metadata": {},
   "source": [
    "### Минимизация двумерной функции\n",
    "\n",
    "Найти минимум функции $f(x) = (x + 1)^2 + (y - 3)^2$ при ограничениях\n",
    "\n",
    "$\n",
    "\\begin{align}\n",
    "    x - 2 y + 2 &\\geq 0 \\\\\n",
    "    -x - 2y + 6 &\\geq 0 \\\\\n",
    "    -x + 2y + 2 &\\geq 0 \\\\\n",
    "    x &\\geq 0 \\\\\n",
    "    y &\\geq 0\n",
    "\\end{align}\n",
    "$\n",
    "\n",
    "и значения, при которых он достигается."
   ]
  },
  {
   "cell_type": "code",
   "execution_count": null,
   "metadata": {},
   "outputs": [],
   "source": [
    "f = lambda x: (x[0] + 1)**2 + (x[1] - 3)**2"
   ]
  },
  {
   "cell_type": "code",
   "execution_count": null,
   "metadata": {},
   "outputs": [],
   "source": [
    "# список словарей; один словарь - одно ограничение \n",
    "cons = ({'type': 'ineq', 'fun': lambda x: x[0] - 2*x[1] + 2},\n",
    "       {'type': 'ineq', 'fun': lambda x: -x[0] - 2*x[1] + 6},\n",
    "       {'type': 'ineq', 'fun': lambda x: -x[0] + 2*x[1] + 2})\n",
    "# либо экземпляр класса Bounds, либо кортеж пар (min, max)\n",
    "# bounds = Bounds([0, None], [0, None])\n",
    "bounds = ((0, None), (0, None))"
   ]
  },
  {
   "cell_type": "code",
   "execution_count": null,
   "metadata": {
    "scrolled": false
   },
   "outputs": [],
   "source": [
    "result = minimize(f, (2, 0), bounds=bounds, constraints=cons) \n",
    "result"
   ]
  },
  {
   "cell_type": "markdown",
   "metadata": {},
   "source": [
    "### [Интерполяция](https://docs.scipy.org/doc/scipy/reference/tutorial/interpolate.html)   <a class=\"anchor\" id=\"scipy_interpolate\"></a>\n",
    "\n",
    "Интерполяция $-$ даны дискретные значения функции, необходимо найти промежуточные.\n",
    "\n",
    "Рассмотрим интерполяцию одномерной функции:\n",
    "\n",
    "$y = x^2 sin(x)$"
   ]
  },
  {
   "cell_type": "code",
   "execution_count": null,
   "metadata": {
    "scrolled": true
   },
   "outputs": [],
   "source": [
    "import matplotlib.pyplot as plt\n",
    "%matplotlib inline\n",
    "\n",
    "x = np.linspace(0, 10, 10)\n",
    "y = x**2 * np.sin(x)\n",
    "\n",
    "# точечная диаграмма\n",
    "plt.scatter(x, y)\n",
    "plt.show()"
   ]
  },
  {
   "cell_type": "code",
   "execution_count": null,
   "metadata": {},
   "outputs": [],
   "source": [
    "from scipy.interpolate import interp1d"
   ]
  },
  {
   "cell_type": "code",
   "execution_count": null,
   "metadata": {},
   "outputs": [],
   "source": [
    "# по умлочинию линейная интерполяция\n",
    "f = interp1d(x, y)"
   ]
  },
  {
   "cell_type": "code",
   "execution_count": null,
   "metadata": {
    "scrolled": true
   },
   "outputs": [],
   "source": [
    "# что получилось?\n",
    "x_dense = np.linspace(0, 10, 100)\n",
    "y_dense = f(x_dense)\n",
    "\n",
    "plt.plot(x_dense, y_dense)\n",
    "plt.scatter(x, y)\n",
    "plt.show()"
   ]
  },
  {
   "cell_type": "code",
   "execution_count": null,
   "metadata": {},
   "outputs": [],
   "source": [
    "f = interp1d(x, y, kind='cubic')"
   ]
  },
  {
   "cell_type": "markdown",
   "metadata": {},
   "source": [
    "### Curve fitting\n",
    "\n",
    "Может стоять другая задача:\n",
    "\n",
    "* Известна \"форма\" данных\n",
    "* Неизвестны только параметы"
   ]
  },
  {
   "cell_type": "code",
   "execution_count": null,
   "metadata": {},
   "outputs": [],
   "source": [
    "x_data = np.linspace(0, 10, 10)\n",
    "y_data = -x**3 + 4 * x**2 - 2 * x + 7\n",
    "\n",
    "plt.scatter(x_data, y_data)\n",
    "plt.show()"
   ]
  },
  {
   "cell_type": "code",
   "execution_count": null,
   "metadata": {},
   "outputs": [],
   "source": [
    "from scipy.optimize import curve_fit\n",
    "\n",
    "def func_cubic(x, a, b, c, d):\n",
    "    return a * x**3 + b * x**2 + c * x + d"
   ]
  },
  {
   "cell_type": "markdown",
   "metadata": {},
   "source": [
    "Воспользуемся функцией __curve_fit__\n",
    "\n",
    "передаём функцию, данные и начальное приближение"
   ]
  },
  {
   "cell_type": "code",
   "execution_count": null,
   "metadata": {},
   "outputs": [],
   "source": [
    "popt, pcov = curve_fit(func_cubic, x_data, y_data, p0=(-1.2, 2, 2, 3))\n",
    "popt"
   ]
  },
  {
   "cell_type": "code",
   "execution_count": null,
   "metadata": {},
   "outputs": [],
   "source": [
    "res_a, res_b, res_c, res_d = popt\n",
    "y_fit = func_cubic(x_data, res_a, res_b, res_c, res_d)\n",
    "\n",
    "plt.plot(x_data, y_fit, color='purple', lw=0.5)\n",
    "plt.scatter(x_data, y_data, marker='o', c='blue')\n",
    "plt.show()"
   ]
  },
  {
   "cell_type": "markdown",
   "metadata": {},
   "source": [
    "### [Интегрирование](https://docs.scipy.org/doc/scipy/reference/tutorial/integrate.html)   <a class=\"anchor\" id=\"scipy_integrate\"></a>\n"
   ]
  },
  {
   "cell_type": "markdown",
   "metadata": {},
   "source": [
    "создать полином можно с помощью __poly1d__\n",
    "\n",
    "в качестве аргумента можно передать коэффициенты (в порядке уменьшения степени)"
   ]
  },
  {
   "cell_type": "code",
   "execution_count": null,
   "metadata": {},
   "outputs": [],
   "source": [
    "polynom = np.poly1d([4, 2, 1, 2])"
   ]
  },
  {
   "cell_type": "code",
   "execution_count": null,
   "metadata": {},
   "outputs": [],
   "source": [
    "print(polynom)"
   ]
  },
  {
   "cell_type": "markdown",
   "metadata": {},
   "source": [
    "Посчитаем неопределенный интеграл. Можно указывать \n",
    "\n",
    "* порядок (параметр $m$, по умолчанию 1) \n",
    "* константу (параметр $k$, по умолчанию None, т.е. добавится 0)\n"
   ]
  },
  {
   "cell_type": "code",
   "execution_count": null,
   "metadata": {},
   "outputs": [],
   "source": [
    "polynom.integ(k = 5)"
   ]
  },
  {
   "cell_type": "code",
   "execution_count": null,
   "metadata": {},
   "outputs": [],
   "source": [
    "print(polynom.integ(k = 5))"
   ]
  },
  {
   "cell_type": "markdown",
   "metadata": {},
   "source": [
    "А если функция сложнее?"
   ]
  },
  {
   "cell_type": "code",
   "execution_count": null,
   "metadata": {},
   "outputs": [],
   "source": [
    "from scipy.integrate import quad, odeint\n",
    "from scipy.special import erf\n",
    "\n",
    "def f(x):\n",
    "    return exp(-x**2)"
   ]
  },
  {
   "cell_type": "markdown",
   "metadata": {},
   "source": [
    "Функция `quad`\n",
    "\n",
    "```\n",
    "Вычисляет определенный интеграл.\n",
    "\n",
    "Integrate func from `a` to `b` (possibly infinite interval) using a technique from the Fortran library QUADPACK.\n",
    "```\n",
    "\n",
    "$$\\int_{a}^{b} f(x) dx$$\n",
    "\n",
    "Адаптивное численное интегрирование (может быть до бесконечности). "
   ]
  },
  {
   "cell_type": "code",
   "execution_count": null,
   "metadata": {},
   "outputs": [],
   "source": [
    "quad?"
   ]
  },
  {
   "cell_type": "code",
   "execution_count": null,
   "metadata": {},
   "outputs": [],
   "source": [
    "from numpy import exp,inf,sqrt,pi"
   ]
  },
  {
   "cell_type": "code",
   "execution_count": null,
   "metadata": {},
   "outputs": [],
   "source": [
    "res, err = quad(f, 0, np.inf)\n",
    "\n",
    "print(f\"Аналитический результат: {sqrt(pi)/2}.\\nЧисленного интегрированиe: {res}.\\nОшибка численного интегрирования: {err}\")"
   ]
  },
  {
   "cell_type": "markdown",
   "metadata": {},
   "source": [
    "### Дифференциальные уравнения  <a class=\"anchor\" id=\"scipy_odes\"></a>\n",
    "`odeint` - интегрирование системы ОДУ:\n",
    "\n",
    "$$\n",
    "\\cfrac{d {\\rm y}}{dt} = f ({\\rm y}, t),\n",
    "$$\n",
    "\n",
    "где ${\\rm y}(0) = y_0$, ${\\rm y}$ - вектор длины $N$, $f: \\mathbb{R}^N \\rightarrow \\mathbb{R}^N$"
   ]
  },
  {
   "cell_type": "code",
   "execution_count": null,
   "metadata": {},
   "outputs": [],
   "source": [
    "odeint?"
   ]
  },
  {
   "cell_type": "markdown",
   "metadata": {},
   "source": [
    "Уравнение движения маятника с учётом силы трения в шарнире и действия гравитации\n",
    "\n",
    "$\\theta''(t) + b\\cdot\\theta'(t) + c\\cdot\\sin(\\theta(t)) = 0$, $b, c > 0$\n",
    "\n",
    "Немного упростим"
   ]
  },
  {
   "cell_type": "code",
   "execution_count": null,
   "metadata": {},
   "outputs": [],
   "source": [
    "a = 0.2\n",
    "def f(x,t):\n",
    "    global a\n",
    "    return [x[1], -x[0]-2*a*x[1]]"
   ]
  },
  {
   "cell_type": "code",
   "execution_count": null,
   "metadata": {},
   "outputs": [],
   "source": [
    "t = np.linspace(0, 10, 1000)\n",
    "x = odeint(f,[1,0],t)\n",
    "x"
   ]
  },
  {
   "cell_type": "markdown",
   "metadata": {},
   "source": [
    "Теперь хотим простроить графики координаты и скорости!"
   ]
  },
  {
   "cell_type": "code",
   "execution_count": null,
   "metadata": {
    "scrolled": true
   },
   "outputs": [],
   "source": [
    "plt.plot(t, x)\n",
    "# точное решение\n",
    "b = np.sqrt(1 - a**2)\n",
    "x0 = np.exp(-a*t)*(np.cos(b*t) + a/b*np.sin(b*t))\n",
    "\n",
    "# максимальное отличие численного решения от точного\n",
    "print(f\"Ошибка: {abs(x[:,0] - x0).max()}\")\n",
    "plt.show()"
   ]
  },
  {
   "cell_type": "markdown",
   "metadata": {},
   "source": [
    "### Опционально <a class=\"anchor\" id=\"mpll_additional\"></a>\n",
    "\n",
    "Галерея matplotlib http://matplotlib.org/gallery.html  \n",
    "Python scientific lecture notes https://scipy-lectures.github.io/  \n",
    "http://matplotlib.org/examples/pie_and_polar_charts/polar_bar_demo.html"
   ]
  }
 ],
 "metadata": {
  "kernelspec": {
   "display_name": "Python 3",
   "language": "python",
   "name": "python3"
  },
  "language_info": {
   "codemirror_mode": {
    "name": "ipython",
    "version": 3
   },
   "file_extension": ".py",
   "mimetype": "text/x-python",
   "name": "python",
   "nbconvert_exporter": "python",
   "pygments_lexer": "ipython3",
   "version": "3.7.3"
  }
 },
 "nbformat": 4,
 "nbformat_minor": 2
}
